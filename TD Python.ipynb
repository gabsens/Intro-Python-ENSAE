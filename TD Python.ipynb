{
 "cells": [
  {
   "cell_type": "markdown",
   "metadata": {},
   "source": [
    "## 2. Les variables, les listes et les chaînes de caractères\n",
    "\n",
    "### 2.1 Les variables"
   ]
  },
  {
   "cell_type": "markdown",
   "metadata": {},
   "source": [
    "#### Exercice 1"
   ]
  },
  {
   "cell_type": "code",
   "execution_count": 1,
   "metadata": {},
   "outputs": [],
   "source": [
    "var_1 = 3"
   ]
  },
  {
   "cell_type": "code",
   "execution_count": 2,
   "metadata": {},
   "outputs": [
    {
     "name": "stdout",
     "output_type": "stream",
     "text": [
      "<class 'int'>\n"
     ]
    }
   ],
   "source": [
    "print(type(var_1))"
   ]
  },
  {
   "cell_type": "code",
   "execution_count": 4,
   "metadata": {},
   "outputs": [
    {
     "name": "stdout",
     "output_type": "stream",
     "text": [
      "2.5 est de type  <class 'float'>\n",
      "2 est de type  <class 'int'>\n",
      "4.5 est de type  <class 'float'>\n",
      "a est de type  <class 'str'>\n",
      "3.3333333333333335 est de type  <class 'float'>\n",
      "5.0 est de type  <class 'float'>\n"
     ]
    }
   ],
   "source": [
    "vars = [2.5, 2, 2+2.5, 'a', 10/3, 10/2]\n",
    "for var in vars:\n",
    "    print(var, 'est de type ', type(var))"
   ]
  },
  {
   "cell_type": "markdown",
   "metadata": {},
   "source": [
    "Un phénomène curieux: l'addition des floats http://0.30000000000000004.com/"
   ]
  },
  {
   "cell_type": "code",
   "execution_count": 7,
   "metadata": {},
   "outputs": [
    {
     "data": {
      "text/plain": [
       "0.30000000000000004"
      ]
     },
     "execution_count": 7,
     "metadata": {},
     "output_type": "execute_result"
    }
   ],
   "source": [
    "0.1 + 0.2"
   ]
  },
  {
   "cell_type": "markdown",
   "metadata": {},
   "source": [
    "***"
   ]
  },
  {
   "cell_type": "code",
   "execution_count": 14,
   "metadata": {},
   "outputs": [],
   "source": [
    "var_1 = 1 ; var_2 = \"abc\" ; var_3 = 2"
   ]
  },
  {
   "cell_type": "code",
   "execution_count": 15,
   "metadata": {},
   "outputs": [
    {
     "name": "stdout",
     "output_type": "stream",
     "text": [
      "abc 1\n"
     ]
    }
   ],
   "source": [
    "var_3 = var_1 ; var_1 = var_2 ; var_2 = var_3  #var_3 est une variable de stockage intermédiaire\n",
    "print(\"{} {}\".format(var_1, var_2))"
   ]
  },
  {
   "cell_type": "markdown",
   "metadata": {},
   "source": [
    "On peut le faire sans variable de stockage intermédiaire."
   ]
  },
  {
   "cell_type": "code",
   "execution_count": 16,
   "metadata": {},
   "outputs": [
    {
     "name": "stdout",
     "output_type": "stream",
     "text": [
      "abc 1\n"
     ]
    }
   ],
   "source": [
    "var_1 = 1 ; var_2 = \"abc\" ; var_3 = 2\n",
    "var_1, var_2 = var_2, var_1\n",
    "print(\"{} {}\".format(var_1, var_2))"
   ]
  },
  {
   "cell_type": "markdown",
   "metadata": {},
   "source": [
    "Explication pour les curieux: https://stackoverflow.com/a/14836456/2444019"
   ]
  },
  {
   "cell_type": "markdown",
   "metadata": {},
   "source": [
    "### 2.2 Les listes"
   ]
  },
  {
   "cell_type": "markdown",
   "metadata": {},
   "source": [
    "<div class=\"alert alert-block alert-danger\">\n",
    "Attention, erreur dans l'énoncé. Le constructeur list() prend un argument un iterable.\n",
    "</div>"
   ]
  },
  {
   "cell_type": "code",
   "execution_count": 21,
   "metadata": {},
   "outputs": [
    {
     "ename": "NameError",
     "evalue": "name 'liste' is not defined",
     "output_type": "error",
     "traceback": [
      "\u001b[1;31m---------------------------------------------------------------------------\u001b[0m",
      "\u001b[1;31mNameError\u001b[0m                                 Traceback (most recent call last)",
      "\u001b[1;32m<ipython-input-21-c0b4eff5a67f>\u001b[0m in \u001b[0;36m<module>\u001b[1;34m\u001b[0m\n\u001b[1;32m----> 1\u001b[1;33m \u001b[0ml\u001b[0m \u001b[1;33m=\u001b[0m \u001b[0mliste\u001b[0m\u001b[1;33m(\u001b[0m\u001b[1;36m1\u001b[0m\u001b[1;33m,\u001b[0m \u001b[1;36m2\u001b[0m\u001b[1;33m,\u001b[0m \u001b[1;36m3\u001b[0m\u001b[1;33m)\u001b[0m\u001b[1;33m\u001b[0m\u001b[1;33m\u001b[0m\u001b[0m\n\u001b[0m",
      "\u001b[1;31mNameError\u001b[0m: name 'liste' is not defined"
     ]
    }
   ],
   "source": [
    "l = liste(1, 2, 3)"
   ]
  },
  {
   "cell_type": "code",
   "execution_count": 22,
   "metadata": {},
   "outputs": [
    {
     "ename": "TypeError",
     "evalue": "list() takes at most 1 argument (3 given)",
     "output_type": "error",
     "traceback": [
      "\u001b[1;31m---------------------------------------------------------------------------\u001b[0m",
      "\u001b[1;31mTypeError\u001b[0m                                 Traceback (most recent call last)",
      "\u001b[1;32m<ipython-input-22-38fa8e010880>\u001b[0m in \u001b[0;36m<module>\u001b[1;34m\u001b[0m\n\u001b[1;32m----> 1\u001b[1;33m \u001b[0ml\u001b[0m \u001b[1;33m=\u001b[0m \u001b[0mlist\u001b[0m\u001b[1;33m(\u001b[0m\u001b[1;36m1\u001b[0m\u001b[1;33m,\u001b[0m \u001b[1;36m2\u001b[0m\u001b[1;33m,\u001b[0m \u001b[1;36m3\u001b[0m\u001b[1;33m)\u001b[0m\u001b[1;33m\u001b[0m\u001b[1;33m\u001b[0m\u001b[0m\n\u001b[0m",
      "\u001b[1;31mTypeError\u001b[0m: list() takes at most 1 argument (3 given)"
     ]
    }
   ],
   "source": [
    "l = list(1, 2, 3)"
   ]
  },
  {
   "cell_type": "code",
   "execution_count": 23,
   "metadata": {},
   "outputs": [],
   "source": [
    "l = list((1, 2, 3))"
   ]
  },
  {
   "cell_type": "markdown",
   "metadata": {},
   "source": [
    "***\n",
    "Concernant l'indexation \n",
    "![Image of Yaktocat](https://qph.fs.quoracdn.net/main-qimg-a380b1bc159589df5e0b9842e5b56b6d)"
   ]
  },
  {
   "cell_type": "code",
   "execution_count": 26,
   "metadata": {},
   "outputs": [],
   "source": [
    "l = ['M', 'o', 'n', 't', 'y', ' ', 'P', 'y', 't', 'h', 'o', 'n']"
   ]
  },
  {
   "cell_type": "code",
   "execution_count": 27,
   "metadata": {},
   "outputs": [
    {
     "data": {
      "text/plain": [
       "'M'"
      ]
     },
     "execution_count": 27,
     "metadata": {},
     "output_type": "execute_result"
    }
   ],
   "source": [
    "l[0]"
   ]
  },
  {
   "cell_type": "code",
   "execution_count": 28,
   "metadata": {},
   "outputs": [
    {
     "data": {
      "text/plain": [
       "'o'"
      ]
     },
     "execution_count": 28,
     "metadata": {},
     "output_type": "execute_result"
    }
   ],
   "source": [
    "l[1]"
   ]
  },
  {
   "cell_type": "code",
   "execution_count": 29,
   "metadata": {},
   "outputs": [
    {
     "data": {
      "text/plain": [
       "['P', 'y', 't', 'h']"
      ]
     },
     "execution_count": 29,
     "metadata": {},
     "output_type": "execute_result"
    }
   ],
   "source": [
    "l[6:10]"
   ]
  },
  {
   "cell_type": "code",
   "execution_count": 30,
   "metadata": {},
   "outputs": [
    {
     "data": {
      "text/plain": [
       "['M', 'o', 'n', 't', 'y']"
      ]
     },
     "execution_count": 30,
     "metadata": {},
     "output_type": "execute_result"
    }
   ],
   "source": [
    "l[-12:-7]"
   ]
  },
  {
   "cell_type": "markdown",
   "metadata": {},
   "source": [
    "### 2.3 Les chaînes de caractères"
   ]
  },
  {
   "cell_type": "markdown",
   "metadata": {},
   "source": [
    "#### Exercice 2"
   ]
  },
  {
   "cell_type": "code",
   "execution_count": 33,
   "metadata": {},
   "outputs": [],
   "source": [
    "fruits = [[\"orange\", 2.4 , \"espagne\"], [\"citron\", 3.5 , \"italie\" ],\n",
    "          [\"aubergine\", 3.0, \"france\"], [\"basilic\", 7.5, \"israël\"]]"
   ]
  },
  {
   "cell_type": "code",
   "execution_count": 38,
   "metadata": {},
   "outputs": [],
   "source": [
    "??sorted  #permet d'accéder à la documentation de la fonction sorted()"
   ]
  },
  {
   "cell_type": "code",
   "execution_count": 35,
   "metadata": {},
   "outputs": [
    {
     "data": {
      "text/plain": [
       "[['basilic', 7.5, 'israël'],\n",
       " ['citron', 3.5, 'italie'],\n",
       " ['aubergine', 3.0, 'france'],\n",
       " ['orange', 2.4, 'espagne']]"
      ]
     },
     "execution_count": 35,
     "metadata": {},
     "output_type": "execute_result"
    }
   ],
   "source": [
    "def element_2(l):  # fonction qui retourne le 2 ème élément d'une liste (attention l'indexation commence à 0)\n",
    "    return l[1]\n",
    "\n",
    "sorted(fruits, key=element_2, reverse=True)"
   ]
  },
  {
   "cell_type": "code",
   "execution_count": 36,
   "metadata": {},
   "outputs": [
    {
     "data": {
      "text/plain": [
       "[['orange', 2.4, 'espagne'],\n",
       " ['aubergine', 3.0, 'france'],\n",
       " ['basilic', 7.5, 'israël'],\n",
       " ['citron', 3.5, 'italie']]"
      ]
     },
     "execution_count": 36,
     "metadata": {},
     "output_type": "execute_result"
    }
   ],
   "source": [
    "def element_3(l): # fonction qui retourne le 3ème élément d'une liste \n",
    "    return l[2]\n",
    "\n",
    "sorted(fruits, key=element_3)"
   ]
  },
  {
   "cell_type": "markdown",
   "metadata": {},
   "source": [
    "#### Exercice 3"
   ]
  },
  {
   "cell_type": "code",
   "execution_count": 51,
   "metadata": {},
   "outputs": [
    {
     "data": {
      "text/plain": [
       "[[0.1, 0.1], [0.1, 0.5], [2, 1], [3, 1.5]]"
      ]
     },
     "execution_count": 51,
     "metadata": {},
     "output_type": "execute_result"
    }
   ],
   "source": [
    "def norme_carree(l): #fonction qui retourne la norme au carré d'un vecteur de R^2\n",
    "    return l[0]**2 + l[1]**2   \n",
    "#comme la racine carré est croissante, on peut l'omettre car elle ne change rien au tri\n",
    "\n",
    "M = [[0.1, 0.1],\n",
    "     [2, 1],\n",
    "     [0.1, 0.5],\n",
    "     [3, 1.5]]\n",
    "sorted(M, key=norme_carree)"
   ]
  },
  {
   "cell_type": "code",
   "execution_count": 55,
   "metadata": {},
   "outputs": [
    {
     "data": {
      "text/plain": [
       "0"
      ]
     },
     "execution_count": 55,
     "metadata": {},
     "output_type": "execute_result"
    }
   ],
   "source": [
    "def indice_plus_proche(M, v): \n",
    "    diffs = []  #liste qui va stocker les normes au carré des différences \n",
    "    for line in M:  #on itère sur les lignes de la matrice\n",
    "        norm_diff = (line[0]-v[0])**2 + (line[1]-v[1])**2  #calcul de la norme^2 de la différence entre la ligne et le vecteur\n",
    "        diffs.append(norm_diff) #ajout de la norme^2 dans la liste\n",
    "    diff_min = min(diffs) #calcul de la plus petite norme^2\n",
    "    return diffs.index(diff_min) #calcul de l'indice correspondant dans la matrice de départ\n",
    "\n",
    "M = [[0.1, 0.1],\n",
    "     [2, 1],\n",
    "     [0.1, 0.5],\n",
    "     [3, 1.5]]\n",
    "indice_plus_proche(M, [0,0])"
   ]
  },
  {
   "cell_type": "code",
   "execution_count": 56,
   "metadata": {},
   "outputs": [
    {
     "data": {
      "text/plain": [
       "3"
      ]
     },
     "execution_count": 56,
     "metadata": {},
     "output_type": "execute_result"
    }
   ],
   "source": [
    "\n",
    "M = [[2, 1],\n",
    "     [0.1, 0.5],\n",
    "     [3, 1.5],\n",
    "     [0.1, 0.1]]\n",
    "indice_plus_proche(M, [0,0])"
   ]
  },
  {
   "cell_type": "markdown",
   "metadata": {},
   "source": [
    "**Remarque**: avec la librairie de calcul matriciel *Numpy* ça prend 1 ligne."
   ]
  },
  {
   "cell_type": "code",
   "execution_count": 67,
   "metadata": {},
   "outputs": [
    {
     "data": {
      "text/plain": [
       "0"
      ]
     },
     "execution_count": 67,
     "metadata": {},
     "output_type": "execute_result"
    }
   ],
   "source": [
    "import numpy as np\n",
    "\n",
    "def indice_plus_proche_numpy(M, v):\n",
    "    return np.argmin(np.linalg.norm(M-v, axis=1))\n",
    "\n",
    "M = np.array(\n",
    "    [[0.1, 0.1],\n",
    "     [2, 1],\n",
    "     [0.1, 0.5],\n",
    "     [3, 1.5]])\n",
    "indice_plus_proche_numpy(M, [0,0])"
   ]
  },
  {
   "cell_type": "code",
   "execution_count": 68,
   "metadata": {},
   "outputs": [
    {
     "data": {
      "text/plain": [
       "3"
      ]
     },
     "execution_count": 68,
     "metadata": {},
     "output_type": "execute_result"
    }
   ],
   "source": [
    "M = np.array(\n",
    "    [[2, 1],\n",
    "     [0.1, 0.5],\n",
    "     [3, 1.5],\n",
    "     [0.1, 0.1]])\n",
    "indice_plus_proche_numpy(M, [0,0])"
   ]
  },
  {
   "cell_type": "markdown",
   "metadata": {},
   "source": [
    "#### Exercice 4"
   ]
  },
  {
   "cell_type": "code",
   "execution_count": 71,
   "metadata": {},
   "outputs": [
    {
     "data": {
      "text/plain": [
       "3"
      ]
     },
     "execution_count": 71,
     "metadata": {},
     "output_type": "execute_result"
    }
   ],
   "source": [
    "def compte_prefix(s, prefix): #fonction qui compte le nombre d'occurrences du préfixe dans les mots de la chaine s\n",
    "    s2 = ' '+s\n",
    "    return s2.count(' '+prefix)\n",
    "\n",
    "compte_prefix('jean joue à un jeu avec jeanne', 'je')"
   ]
  },
  {
   "cell_type": "markdown",
   "metadata": {},
   "source": [
    "#### Exercice 5"
   ]
  },
  {
   "cell_type": "code",
   "execution_count": 73,
   "metadata": {},
   "outputs": [
    {
     "data": {
      "text/plain": [
       "3"
      ]
     },
     "execution_count": 73,
     "metadata": {},
     "output_type": "execute_result"
    }
   ],
   "source": [
    "def occ(s, cible): #fonction qui compte le nombre d'occurrences de cible dans s\n",
    "    s2 = s.lower()\n",
    "    return s2.count(cible)\n",
    "\n",
    "occ('Transversalement TRAnsverse transition', 'trans')"
   ]
  },
  {
   "cell_type": "markdown",
   "metadata": {},
   "source": [
    "## 3. Structures de contrôle"
   ]
  },
  {
   "cell_type": "markdown",
   "metadata": {},
   "source": [
    "#### Exercice 6\n"
   ]
  },
  {
   "cell_type": "markdown",
   "metadata": {},
   "source": [
    "L'énoncé n'impose pas que les $n^2$ entiers qui constituent le carré magique soient distincts."
   ]
  },
  {
   "cell_type": "code",
   "execution_count": 74,
   "metadata": {},
   "outputs": [
    {
     "data": {
      "text/plain": [
       "True"
      ]
     },
     "execution_count": 74,
     "metadata": {},
     "output_type": "execute_result"
    }
   ],
   "source": [
    "def check_magique(M):\n",
    "    somme = sum(M[0])  #calcul de la somme de la première ligne de M\n",
    "    n = len(M[0])  #nombre de lignes/colonnes de M\n",
    "    \n",
    "    for line in M:  #on itère sur les lignes de M\n",
    "        if sum(line) != somme:  #dès qu'on tombe sur une ligne dont la somme ne coincide pas, on s'arrête\n",
    "            return False\n",
    "\n",
    "    for j in range(n):  #on itère sur les colonnes de M\n",
    "        somme_colonne_j = 0  #accumulateur pour calculer la somme de la jème colonne\n",
    "        for i in range(n):\n",
    "            somme_colonne_j = somme_colonne_j + M[i][j]\n",
    "        if somme_colonne_j != somme: #dès qu'on tombe sur une colonne dont la somme ne coincide pas, on s'arrête\n",
    "            return False\n",
    "    \n",
    "    somme_diag = 0  #accumulateur pour calculer la somme de la diagonale\n",
    "    for i in range(n):\n",
    "        somme_diag = somme_diag + M[i][i]\n",
    "    if somme_diag != somme:\n",
    "        return False\n",
    "\n",
    "    somme_anti_diag = 0  #accumulateur pour calculer la somme de l'antidiagonale\n",
    "    for i in range(n):\n",
    "        somme_anti_diag = somme_anti_diag + M[i][n-1-i]\n",
    "    if somme_anti_diag != somme:\n",
    "        return False\n",
    "    \n",
    "    return True  #si on arrive à cette ligne du programme, c'est qu'on a bien un carré magique\n",
    "    \n",
    "M = [[2, 9, 4],\n",
    "     [7, 5, 3],\n",
    "     [6, 1, 8]]\n",
    "check_magique(M)"
   ]
  },
  {
   "cell_type": "code",
   "execution_count": 75,
   "metadata": {},
   "outputs": [
    {
     "data": {
      "text/plain": [
       "False"
      ]
     },
     "execution_count": 75,
     "metadata": {},
     "output_type": "execute_result"
    }
   ],
   "source": [
    "M = [[9, 2, 4],\n",
    "     [7, 5, 3],\n",
    "     [6, 1, 8]]\n",
    "check_magique(M)"
   ]
  },
  {
   "cell_type": "markdown",
   "metadata": {},
   "source": [
    "#### Exercice 7"
   ]
  },
  {
   "cell_type": "markdown",
   "metadata": {},
   "source": [
    "Question 1"
   ]
  },
  {
   "cell_type": "code",
   "execution_count": 77,
   "metadata": {},
   "outputs": [
    {
     "data": {
      "text/plain": [
       "6"
      ]
     },
     "execution_count": 77,
     "metadata": {},
     "output_type": "execute_result"
    }
   ],
   "source": [
    "def compte_voy(s):\n",
    "    s = s.lower()  #on commence par normaliser s\n",
    "    voy = ['a', 'e', 'i', 'o', 'u', 'y']  #on crée une liste de toutes les voyelles\n",
    "    compte = 0  #accumulateur qui va compter le nombre de voyelles\n",
    "    for char in s:\n",
    "        if char in voy:  #on teste si le charactère de la chaine est une voyelle\n",
    "            compte += 1\n",
    "    return compte\n",
    "\n",
    "compte_voy('boyaudier')"
   ]
  },
  {
   "cell_type": "markdown",
   "metadata": {},
   "source": [
    "On peut obtenir une solution plus *pythonic* avec de la compréhension de liste:"
   ]
  },
  {
   "cell_type": "code",
   "execution_count": 2,
   "metadata": {},
   "outputs": [
    {
     "data": {
      "text/plain": [
       "6"
      ]
     },
     "execution_count": 2,
     "metadata": {},
     "output_type": "execute_result"
    }
   ],
   "source": [
    "def compte_voy2(s):\n",
    "    s = s.lower()\n",
    "    voy = ['a', 'e', 'i', 'o', 'u', 'y']\n",
    "    return len([char for char in s if char in voy])\n",
    "\n",
    "compte_voy2('boyaudier')"
   ]
  },
  {
   "cell_type": "markdown",
   "metadata": {},
   "source": [
    "Question 2"
   ]
  },
  {
   "cell_type": "code",
   "execution_count": 80,
   "metadata": {},
   "outputs": [
    {
     "data": {
      "text/plain": [
       "False"
      ]
     },
     "execution_count": 80,
     "metadata": {},
     "output_type": "execute_result"
    }
   ],
   "source": [
    "def check_voy(s):\n",
    "    return compte_voy(s) > len(s) - compte_voy(s)\n",
    "\n",
    "check_voy('borchtchs')"
   ]
  },
  {
   "cell_type": "markdown",
   "metadata": {},
   "source": [
    "## 4. Fonctions et modules"
   ]
  },
  {
   "cell_type": "markdown",
   "metadata": {},
   "source": [
    "#### Exercice 8"
   ]
  },
  {
   "cell_type": "markdown",
   "metadata": {},
   "source": [
    "Attention, `range(i,j)` génère un itérable qui contient les entiers de `i` à `j-1`."
   ]
  },
  {
   "cell_type": "code",
   "execution_count": 1,
   "metadata": {},
   "outputs": [
    {
     "name": "stdout",
     "output_type": "stream",
     "text": [
      "5*1=5\n",
      "5*2=10\n",
      "5*3=15\n",
      "5*4=20\n",
      "5*5=25\n",
      "5*6=30\n",
      "5*7=35\n",
      "5*8=40\n",
      "5*9=45\n",
      "5*10=50\n"
     ]
    }
   ],
   "source": [
    "def table(b):\n",
    "    for i in range(1, 11):  \n",
    "        print(str(b)+'*'+str(i)+'='+str(b*i))   #il faut convertir tous les entiers en string avec str()\n",
    "                                                #on pourrait utiliser la méthode format...\n",
    "\n",
    "table(5)"
   ]
  },
  {
   "cell_type": "markdown",
   "metadata": {},
   "source": [
    "#### Exercice 9"
   ]
  },
  {
   "cell_type": "code",
   "execution_count": 2,
   "metadata": {},
   "outputs": [
    {
     "data": {
      "text/plain": [
       "15"
      ]
     },
     "execution_count": 2,
     "metadata": {},
     "output_type": "execute_result"
    }
   ],
   "source": [
    "def somme_entier(n):\n",
    "    if n == 1:  #pour définir une fonction récursive il faut mettre les condition d'arrêt en premier\n",
    "        return 1\n",
    "    else:\n",
    "        return somme_entier(n-1) + n\n",
    "\n",
    "somme_entier(5)"
   ]
  },
  {
   "cell_type": "markdown",
   "metadata": {},
   "source": [
    "Rappel: $$\\sum_{k=1}^n k = \\frac{n(n+1)}2 $$"
   ]
  },
  {
   "cell_type": "code",
   "execution_count": 3,
   "metadata": {},
   "outputs": [
    {
     "data": {
      "text/plain": [
       "15.0"
      ]
     },
     "execution_count": 3,
     "metadata": {},
     "output_type": "execute_result"
    }
   ],
   "source": [
    "5*(5+1)/2"
   ]
  },
  {
   "cell_type": "markdown",
   "metadata": {},
   "source": [
    "#### Exercice 10"
   ]
  },
  {
   "cell_type": "code",
   "execution_count": 6,
   "metadata": {},
   "outputs": [
    {
     "data": {
      "text/plain": [
       "12"
      ]
     },
     "execution_count": 6,
     "metadata": {},
     "output_type": "execute_result"
    }
   ],
   "source": [
    "def somme(arg1, arg2, arg3=0, arg4=0):\n",
    "    return arg1+arg2+arg3+arg4\n",
    "\n",
    "somme(1,2,4,5)"
   ]
  },
  {
   "cell_type": "code",
   "execution_count": 10,
   "metadata": {},
   "outputs": [
    {
     "data": {
      "text/plain": [
       "2"
      ]
     },
     "execution_count": 10,
     "metadata": {},
     "output_type": "execute_result"
    }
   ],
   "source": [
    "somme(1,1)"
   ]
  },
  {
   "cell_type": "markdown",
   "metadata": {},
   "source": [
    "La solution précédente est astucieuse mais elle n'est pas très flexible: comment faire si on veut une fonction qui prend entre $4$ et $42$ arguments ?"
   ]
  },
  {
   "cell_type": "code",
   "execution_count": 12,
   "metadata": {},
   "outputs": [],
   "source": [
    "def somme2(*entiers):  #syntaxe à utiliser quand on crée une fonction qui prend un nombre arbitraire d'arguments\n",
    "    if len(entiers) in range(4,43):\n",
    "        return sum(entiers)\n",
    "    else:\n",
    "        print('Conditions non vérifiées')"
   ]
  },
  {
   "cell_type": "code",
   "execution_count": 13,
   "metadata": {},
   "outputs": [
    {
     "data": {
      "text/plain": [
       "12"
      ]
     },
     "execution_count": 13,
     "metadata": {},
     "output_type": "execute_result"
    }
   ],
   "source": [
    "somme2(1,2,4,5)"
   ]
  },
  {
   "cell_type": "code",
   "execution_count": 14,
   "metadata": {},
   "outputs": [
    {
     "name": "stdout",
     "output_type": "stream",
     "text": [
      "Conditions non vérifiées\n"
     ]
    }
   ],
   "source": [
    "somme2(1,2)"
   ]
  },
  {
   "cell_type": "markdown",
   "metadata": {},
   "source": [
    "#### Exercice 11"
   ]
  },
  {
   "cell_type": "code",
   "execution_count": 15,
   "metadata": {},
   "outputs": [
    {
     "name": "stdout",
     "output_type": "stream",
     "text": [
      "5*4=20\n",
      "5*5=25\n",
      "5*6=30\n",
      "5*7=35\n"
     ]
    }
   ],
   "source": [
    "def table_multiplication(b, start, end):\n",
    "    for i in range(start, end+1):\n",
    "        print(str(b)+'*'+str(i)+'='+str(b*i))\n",
    "\n",
    "table_multiplication(5, 4, 7)"
   ]
  },
  {
   "cell_type": "markdown",
   "metadata": {},
   "source": [
    "#### Exercice 12"
   ]
  },
  {
   "cell_type": "code",
   "execution_count": 20,
   "metadata": {},
   "outputs": [
    {
     "data": {
      "text/plain": [
       "3.141592653589793"
      ]
     },
     "execution_count": 20,
     "metadata": {},
     "output_type": "execute_result"
    }
   ],
   "source": [
    "from math import pi\n",
    "\n",
    "def aire(grand, petit=-1):  #si le petit axe n'est pas passé en argument on suppose que sa valeur est -1\n",
    "    if petit == -1:  #on teste si le petit axe est passé en argument\n",
    "        return pi*(grand**2)\n",
    "    else:\n",
    "        return pi*grand*petit\n",
    "\n",
    "aire(1)"
   ]
  },
  {
   "cell_type": "markdown",
   "metadata": {},
   "source": [
    "## 5. Dictionnaires"
   ]
  },
  {
   "cell_type": "markdown",
   "metadata": {},
   "source": [
    "#### Exercice 13"
   ]
  },
  {
   "cell_type": "code",
   "execution_count": 2,
   "metadata": {},
   "outputs": [],
   "source": [
    "conso_verdure_Michel = {\"peches\" : 1.5, \"cerises\" : 1.3, \"courgettes\" : 2.5,\n",
    "\"abricots\" : 0.4, \"peches plates\" : 0.7, \"tomates\" : 3.0}"
   ]
  },
  {
   "cell_type": "markdown",
   "metadata": {},
   "source": [
    "Question 1"
   ]
  },
  {
   "cell_type": "code",
   "execution_count": 3,
   "metadata": {},
   "outputs": [
    {
     "data": {
      "text/plain": [
       "9.4"
      ]
     },
     "execution_count": 3,
     "metadata": {},
     "output_type": "execute_result"
    }
   ],
   "source": [
    "def masse(dic):\n",
    "    return sum(dic.values())\n",
    "\n",
    "masse(conso_verdure_Michel)"
   ]
  },
  {
   "cell_type": "markdown",
   "metadata": {},
   "source": [
    "Question 2"
   ]
  },
  {
   "cell_type": "code",
   "execution_count": 4,
   "metadata": {},
   "outputs": [
    {
     "data": {
      "text/plain": [
       "'tomates'"
      ]
     },
     "execution_count": 4,
     "metadata": {},
     "output_type": "execute_result"
    }
   ],
   "source": [
    "def max_masse(dic):\n",
    "    maxi = max(dic.values())\n",
    "    for key in dic.keys():\n",
    "        if dic[key] == maxi:\n",
    "            return key\n",
    "max_masse(conso_verdure_Michel)"
   ]
  },
  {
   "cell_type": "markdown",
   "metadata": {},
   "source": [
    "Question 3"
   ]
  },
  {
   "cell_type": "markdown",
   "metadata": {},
   "source": [
    "Solution simple mais qui ne renvoie pas exactement ce que veut l'énoncé"
   ]
  },
  {
   "cell_type": "code",
   "execution_count": 10,
   "metadata": {},
   "outputs": [
    {
     "data": {
      "text/plain": [
       "[('tomates', 3.0),\n",
       " ('courgettes', 2.5),\n",
       " ('peches', 1.5),\n",
       " ('cerises', 1.3),\n",
       " ('peches plates', 0.7),\n",
       " ('abricots', 0.4)]"
      ]
     },
     "execution_count": 10,
     "metadata": {},
     "output_type": "execute_result"
    }
   ],
   "source": [
    "def f(couple): #fonction qui renvoie le deuxième argument d'un couple\n",
    "    return couple[1]\n",
    "\n",
    "def classement(dic):\n",
    "    return sorted(dic.items(), key=f, reverse=True)\n",
    "\n",
    "classement(conso_verdure_Michel)"
   ]
  },
  {
   "cell_type": "markdown",
   "metadata": {},
   "source": [
    "Dans la fonction ci-dessous, `lambda key:dic[key]` crée une fonction anonyme $\\text{key}\\mapsto \\text{dic}[\\text{key}]$"
   ]
  },
  {
   "cell_type": "code",
   "execution_count": 6,
   "metadata": {},
   "outputs": [
    {
     "data": {
      "text/plain": [
       "['tomates', 'courgettes', 'peches', 'cerises', 'peches plates', 'abricots']"
      ]
     },
     "execution_count": 6,
     "metadata": {},
     "output_type": "execute_result"
    }
   ],
   "source": [
    "def classement2(dic):\n",
    "    return sorted(dic.keys(), key=lambda x:dic[x], reverse=True)\n",
    "\n",
    "classement2(conso_verdure_Michel)"
   ]
  },
  {
   "cell_type": "markdown",
   "metadata": {},
   "source": [
    "#### Exercice 14"
   ]
  },
  {
   "cell_type": "markdown",
   "metadata": {},
   "source": [
    "Question 1"
   ]
  },
  {
   "cell_type": "code",
   "execution_count": 35,
   "metadata": {},
   "outputs": [
    {
     "data": {
      "text/plain": [
       "'oq ekedj'"
      ]
     },
     "execution_count": 35,
     "metadata": {},
     "output_type": "execute_result"
    }
   ],
   "source": [
    "import string\n",
    "\n",
    "def code(phrase): #on suppose qu'une phrase est un string de mots séparés par un espace\n",
    "    alphabet = string.ascii_lowercase  #génère un string de 26 lettres contenant l'alphabet\n",
    "    dic = {}  #on va créer un dictionnaire dont les clés sont les lettres de l'alphabet et les valeurs \n",
    "              #sont les positions correspondantes (par exemple 'a':0, 'b':1, ...)\n",
    "    for (i, char) in enumerate(alphabet):\n",
    "        dic[char] = i\n",
    "    \n",
    "    decal = [dic[char]+1 for char in 'clef']  #on crée une liste de décalages (ici [3,12,5,6])\n",
    "    \n",
    "    phrase2 = []  #liste qui va contenir les lettres de la phrase codée\n",
    "    acc = 0  #accumulateur qui compte le nombre d'espaces\n",
    "    for (i, char) in enumerate(phrase):\n",
    "        if char == ' ':\n",
    "            acc += 1\n",
    "            phrase2.append(' ')\n",
    "        else:\n",
    "            phrase2.append(alphabet[(dic[char] + decal[(i-acc) % len('clef')])%26])\n",
    "    return ''.join(phrase2)\n",
    "\n",
    "code(\"le zebre\")"
   ]
  },
  {
   "cell_type": "code",
   "execution_count": 36,
   "metadata": {},
   "outputs": [
    {
     "data": {
      "text/plain": [
       "'le zebre'"
      ]
     },
     "execution_count": 36,
     "metadata": {},
     "output_type": "execute_result"
    }
   ],
   "source": [
    "def code(phrase): #on suppose qu'une phrase est un string de mots séparés par un espace\n",
    "    alphabet = string.ascii_lowercase  #génère un string de 26 lettres contenant l'alphabet\n",
    "    dic = {}  #on va créer un dictionnaire dont les clés sont les lettres de l'alphabet et les valeurs \n",
    "              #sont les positions correspondantes (par exemple 'a':0, 'b':1, ...)\n",
    "    for (i, char) in enumerate(alphabet):\n",
    "        dic[char] = i\n",
    "    \n",
    "    decal = [dic[char]+1 for char in 'clef']  #on crée une liste de décalages (ici [3,12,5,6])\n",
    "    \n",
    "    phrase2 = []  #liste qui va contenir les lettres de la phrase codée\n",
    "    acc = 0  #accumulateur qui compte le nombre d'espaces\n",
    "    for (i, char) in enumerate(phrase):\n",
    "        if char == ' ':\n",
    "            acc += 1\n",
    "            phrase2.append(' ')\n",
    "        else:\n",
    "            phrase2.append(alphabet[(dic[char] - decal[(i-acc) % len('clef')])%26])  #seul changement\n",
    "    return ''.join(phrase2)\n",
    "\n",
    "code(\"oq ekedj\")"
   ]
  },
  {
   "cell_type": "markdown",
   "metadata": {},
   "source": [
    "## 6. Fichiers"
   ]
  },
  {
   "cell_type": "markdown",
   "metadata": {},
   "source": [
    "#### Exercice 15"
   ]
  },
  {
   "cell_type": "markdown",
   "metadata": {},
   "source": [
    "Question 1"
   ]
  },
  {
   "cell_type": "code",
   "execution_count": 37,
   "metadata": {},
   "outputs": [
    {
     "data": {
      "text/plain": [
       "5"
      ]
     },
     "execution_count": 37,
     "metadata": {},
     "output_type": "execute_result"
    }
   ],
   "source": [
    "def compte(nom):  #on suppose que le fichier est situé dans le même dossier que le notebook\n",
    "    fichier = open(\"./\"+nom)\n",
    "    contenu = fichier.read()\n",
    "    return contenu.count(' ')\n",
    "\n",
    "compte('file.txt')"
   ]
  },
  {
   "cell_type": "code",
   "execution_count": 38,
   "metadata": {},
   "outputs": [],
   "source": [
    "fichier = open(\"./file.txt\")\n",
    "contenu = fichier.read()"
   ]
  },
  {
   "cell_type": "code",
   "execution_count": 39,
   "metadata": {},
   "outputs": [
    {
     "data": {
      "text/plain": [
       "'ceci est un fichier\\nsur plusieurs lignes'"
      ]
     },
     "execution_count": 39,
     "metadata": {},
     "output_type": "execute_result"
    }
   ],
   "source": [
    "contenu"
   ]
  },
  {
   "cell_type": "code",
   "execution_count": null,
   "metadata": {},
   "outputs": [],
   "source": []
  }
 ],
 "metadata": {
  "kernelspec": {
   "display_name": "Python 3",
   "language": "python",
   "name": "python3"
  },
  "language_info": {
   "codemirror_mode": {
    "name": "ipython",
    "version": 3
   },
   "file_extension": ".py",
   "mimetype": "text/x-python",
   "name": "python",
   "nbconvert_exporter": "python",
   "pygments_lexer": "ipython3",
   "version": "3.6.2"
  }
 },
 "nbformat": 4,
 "nbformat_minor": 2
}
