{
 "cells": [
  {
   "cell_type": "markdown",
   "metadata": {},
   "source": [
    "## 2. Les variables, les listes et les chaînes de caractères\n",
    "\n",
    "### 2.1 Les variables"
   ]
  },
  {
   "cell_type": "markdown",
   "metadata": {},
   "source": [
    "#### Exercice 1"
   ]
  },
  {
   "cell_type": "code",
   "execution_count": 1,
   "metadata": {},
   "outputs": [],
   "source": [
    "var_1 = 3"
   ]
  },
  {
   "cell_type": "code",
   "execution_count": 2,
   "metadata": {},
   "outputs": [
    {
     "name": "stdout",
     "output_type": "stream",
     "text": [
      "<class 'int'>\n"
     ]
    }
   ],
   "source": [
    "print(type(var_1))"
   ]
  },
  {
   "cell_type": "code",
   "execution_count": 4,
   "metadata": {},
   "outputs": [
    {
     "name": "stdout",
     "output_type": "stream",
     "text": [
      "2.5 est de type  <class 'float'>\n",
      "2 est de type  <class 'int'>\n",
      "4.5 est de type  <class 'float'>\n",
      "a est de type  <class 'str'>\n",
      "3.3333333333333335 est de type  <class 'float'>\n",
      "5.0 est de type  <class 'float'>\n"
     ]
    }
   ],
   "source": [
    "vars = [2.5, 2, 2+2.5, 'a', 10/3, 10/2]\n",
    "for var in vars:\n",
    "    print(var, 'est de type ', type(var))"
   ]
  },
  {
   "cell_type": "markdown",
   "metadata": {},
   "source": [
    "Un phénomène curieux: l'addition des floats http://0.30000000000000004.com/"
   ]
  },
  {
   "cell_type": "code",
   "execution_count": 7,
   "metadata": {},
   "outputs": [
    {
     "data": {
      "text/plain": [
       "0.30000000000000004"
      ]
     },
     "execution_count": 7,
     "metadata": {},
     "output_type": "execute_result"
    }
   ],
   "source": [
    "0.1 + 0.2"
   ]
  },
  {
   "cell_type": "markdown",
   "metadata": {},
   "source": [
    "***"
   ]
  },
  {
   "cell_type": "code",
   "execution_count": 14,
   "metadata": {},
   "outputs": [],
   "source": [
    "var_1 = 1 ; var_2 = \"abc\" ; var_3 = 2"
   ]
  },
  {
   "cell_type": "code",
   "execution_count": 15,
   "metadata": {},
   "outputs": [
    {
     "name": "stdout",
     "output_type": "stream",
     "text": [
      "abc 1\n"
     ]
    }
   ],
   "source": [
    "var_3 = var_1 ; var_1 = var_2 ; var_2 = var_3  #var_3 est une variable de stockage intermédiaire\n",
    "print(\"{} {}\".format(var_1, var_2))"
   ]
  },
  {
   "cell_type": "markdown",
   "metadata": {},
   "source": [
    "On peut le faire sans variable de stockage intermédiaire."
   ]
  },
  {
   "cell_type": "code",
   "execution_count": 16,
   "metadata": {},
   "outputs": [
    {
     "name": "stdout",
     "output_type": "stream",
     "text": [
      "abc 1\n"
     ]
    }
   ],
   "source": [
    "var_1 = 1 ; var_2 = \"abc\" ; var_3 = 2\n",
    "var_1, var_2 = var_2, var_1\n",
    "print(\"{} {}\".format(var_1, var_2))"
   ]
  },
  {
   "cell_type": "markdown",
   "metadata": {},
   "source": [
    "Explication pour les curieux: https://stackoverflow.com/a/14836456/2444019"
   ]
  },
  {
   "cell_type": "markdown",
   "metadata": {},
   "source": [
    "### 2.2 Les listes"
   ]
  },
  {
   "cell_type": "markdown",
   "metadata": {},
   "source": [
    "<div class=\"alert alert-block alert-danger\">\n",
    "Attention, erreur dans l'énoncé. Le constructeur list() prend un argument un iterable.\n",
    "</div>"
   ]
  },
  {
   "cell_type": "code",
   "execution_count": 21,
   "metadata": {},
   "outputs": [
    {
     "ename": "NameError",
     "evalue": "name 'liste' is not defined",
     "output_type": "error",
     "traceback": [
      "\u001b[1;31m---------------------------------------------------------------------------\u001b[0m",
      "\u001b[1;31mNameError\u001b[0m                                 Traceback (most recent call last)",
      "\u001b[1;32m<ipython-input-21-c0b4eff5a67f>\u001b[0m in \u001b[0;36m<module>\u001b[1;34m\u001b[0m\n\u001b[1;32m----> 1\u001b[1;33m \u001b[0ml\u001b[0m \u001b[1;33m=\u001b[0m \u001b[0mliste\u001b[0m\u001b[1;33m(\u001b[0m\u001b[1;36m1\u001b[0m\u001b[1;33m,\u001b[0m \u001b[1;36m2\u001b[0m\u001b[1;33m,\u001b[0m \u001b[1;36m3\u001b[0m\u001b[1;33m)\u001b[0m\u001b[1;33m\u001b[0m\u001b[1;33m\u001b[0m\u001b[0m\n\u001b[0m",
      "\u001b[1;31mNameError\u001b[0m: name 'liste' is not defined"
     ]
    }
   ],
   "source": [
    "l = liste(1, 2, 3)"
   ]
  },
  {
   "cell_type": "code",
   "execution_count": 22,
   "metadata": {},
   "outputs": [
    {
     "ename": "TypeError",
     "evalue": "list() takes at most 1 argument (3 given)",
     "output_type": "error",
     "traceback": [
      "\u001b[1;31m---------------------------------------------------------------------------\u001b[0m",
      "\u001b[1;31mTypeError\u001b[0m                                 Traceback (most recent call last)",
      "\u001b[1;32m<ipython-input-22-38fa8e010880>\u001b[0m in \u001b[0;36m<module>\u001b[1;34m\u001b[0m\n\u001b[1;32m----> 1\u001b[1;33m \u001b[0ml\u001b[0m \u001b[1;33m=\u001b[0m \u001b[0mlist\u001b[0m\u001b[1;33m(\u001b[0m\u001b[1;36m1\u001b[0m\u001b[1;33m,\u001b[0m \u001b[1;36m2\u001b[0m\u001b[1;33m,\u001b[0m \u001b[1;36m3\u001b[0m\u001b[1;33m)\u001b[0m\u001b[1;33m\u001b[0m\u001b[1;33m\u001b[0m\u001b[0m\n\u001b[0m",
      "\u001b[1;31mTypeError\u001b[0m: list() takes at most 1 argument (3 given)"
     ]
    }
   ],
   "source": [
    "l = list(1, 2, 3)"
   ]
  },
  {
   "cell_type": "code",
   "execution_count": 23,
   "metadata": {},
   "outputs": [],
   "source": [
    "l = list((1, 2, 3))"
   ]
  },
  {
   "cell_type": "markdown",
   "metadata": {},
   "source": [
    "***\n",
    "Concernant l'indexation \n",
    "![Image of Yaktocat](https://qph.fs.quoracdn.net/main-qimg-a380b1bc159589df5e0b9842e5b56b6d)"
   ]
  },
  {
   "cell_type": "code",
   "execution_count": 26,
   "metadata": {},
   "outputs": [],
   "source": [
    "l = ['M', 'o', 'n', 't', 'y', ' ', 'P', 'y', 't', 'h', 'o', 'n']"
   ]
  },
  {
   "cell_type": "code",
   "execution_count": 27,
   "metadata": {},
   "outputs": [
    {
     "data": {
      "text/plain": [
       "'M'"
      ]
     },
     "execution_count": 27,
     "metadata": {},
     "output_type": "execute_result"
    }
   ],
   "source": [
    "l[0]"
   ]
  },
  {
   "cell_type": "code",
   "execution_count": 28,
   "metadata": {},
   "outputs": [
    {
     "data": {
      "text/plain": [
       "'o'"
      ]
     },
     "execution_count": 28,
     "metadata": {},
     "output_type": "execute_result"
    }
   ],
   "source": [
    "l[1]"
   ]
  },
  {
   "cell_type": "code",
   "execution_count": 29,
   "metadata": {},
   "outputs": [
    {
     "data": {
      "text/plain": [
       "['P', 'y', 't', 'h']"
      ]
     },
     "execution_count": 29,
     "metadata": {},
     "output_type": "execute_result"
    }
   ],
   "source": [
    "l[6:10]"
   ]
  },
  {
   "cell_type": "code",
   "execution_count": 30,
   "metadata": {},
   "outputs": [
    {
     "data": {
      "text/plain": [
       "['M', 'o', 'n', 't', 'y']"
      ]
     },
     "execution_count": 30,
     "metadata": {},
     "output_type": "execute_result"
    }
   ],
   "source": [
    "l[-12:-7]"
   ]
  },
  {
   "cell_type": "markdown",
   "metadata": {},
   "source": [
    "### 2.3 Les chaînes de caractères"
   ]
  },
  {
   "cell_type": "markdown",
   "metadata": {},
   "source": [
    "#### Exercice 2"
   ]
  },
  {
   "cell_type": "code",
   "execution_count": 33,
   "metadata": {},
   "outputs": [],
   "source": [
    "fruits = [[\"orange\", 2.4 , \"espagne\"], [\"citron\", 3.5 , \"italie\" ],\n",
    "          [\"aubergine\", 3.0, \"france\"], [\"basilic\", 7.5, \"israël\"]]"
   ]
  },
  {
   "cell_type": "code",
   "execution_count": 38,
   "metadata": {},
   "outputs": [],
   "source": [
    "??sorted  #permet d'accéder à la documentation de la fonction sorted()"
   ]
  },
  {
   "cell_type": "code",
   "execution_count": 35,
   "metadata": {},
   "outputs": [
    {
     "data": {
      "text/plain": [
       "[['basilic', 7.5, 'israël'],\n",
       " ['citron', 3.5, 'italie'],\n",
       " ['aubergine', 3.0, 'france'],\n",
       " ['orange', 2.4, 'espagne']]"
      ]
     },
     "execution_count": 35,
     "metadata": {},
     "output_type": "execute_result"
    }
   ],
   "source": [
    "def element_2(l):  # fonction qui retourne le 2 ème élément d'une liste (attention l'indexation commence à 0)\n",
    "    return l[1]\n",
    "\n",
    "sorted(fruits, key=element_2, reverse=True)"
   ]
  },
  {
   "cell_type": "code",
   "execution_count": 36,
   "metadata": {},
   "outputs": [
    {
     "data": {
      "text/plain": [
       "[['orange', 2.4, 'espagne'],\n",
       " ['aubergine', 3.0, 'france'],\n",
       " ['basilic', 7.5, 'israël'],\n",
       " ['citron', 3.5, 'italie']]"
      ]
     },
     "execution_count": 36,
     "metadata": {},
     "output_type": "execute_result"
    }
   ],
   "source": [
    "def element_3(l): # fonction qui retourne le 3ème élément d'une liste \n",
    "    return l[2]\n",
    "\n",
    "sorted(fruits, key=element_3)"
   ]
  },
  {
   "cell_type": "markdown",
   "metadata": {},
   "source": [
    "#### Exercice 3"
   ]
  },
  {
   "cell_type": "code",
   "execution_count": 51,
   "metadata": {},
   "outputs": [
    {
     "data": {
      "text/plain": [
       "[[0.1, 0.1], [0.1, 0.5], [2, 1], [3, 1.5]]"
      ]
     },
     "execution_count": 51,
     "metadata": {},
     "output_type": "execute_result"
    }
   ],
   "source": [
    "def norme_carree(l): #fonction qui retourne la norme au carré d'un vecteur de R^2\n",
    "    return l[0]**2 + l[1]**2   \n",
    "#comme la racine carré est croissante, on peut l'omettre car elle ne change rien au tri\n",
    "\n",
    "M = [[0.1, 0.1],\n",
    "     [2, 1],\n",
    "     [0.1, 0.5],\n",
    "     [3, 1.5]]\n",
    "sorted(M, key=norme_carree)"
   ]
  },
  {
   "cell_type": "code",
   "execution_count": 55,
   "metadata": {},
   "outputs": [
    {
     "data": {
      "text/plain": [
       "0"
      ]
     },
     "execution_count": 55,
     "metadata": {},
     "output_type": "execute_result"
    }
   ],
   "source": [
    "def indice_plus_proche(M, v): \n",
    "    diffs = []  #liste qui va stocker les normes au carré des différences \n",
    "    for line in M:  #on itère sur les lignes de la matrice\n",
    "        norm_diff = (line[0]-v[0])**2 + (line[1]-v[1])**2  #calcul de la norme^2 de la différence entre la ligne et le vecteur\n",
    "        diffs.append(norm_diff) #ajout de la norme^2 dans la liste\n",
    "    diff_min = min(diffs) #calcul de la plus petite norme^2\n",
    "    return diffs.index(diff_min) #calcul de l'indice correspondant dans la matrice de départ\n",
    "\n",
    "M = [[0.1, 0.1],\n",
    "     [2, 1],\n",
    "     [0.1, 0.5],\n",
    "     [3, 1.5]]\n",
    "indice_plus_proche(M, [0,0])"
   ]
  },
  {
   "cell_type": "code",
   "execution_count": 56,
   "metadata": {},
   "outputs": [
    {
     "data": {
      "text/plain": [
       "3"
      ]
     },
     "execution_count": 56,
     "metadata": {},
     "output_type": "execute_result"
    }
   ],
   "source": [
    "\n",
    "M = [[2, 1],\n",
    "     [0.1, 0.5],\n",
    "     [3, 1.5],\n",
    "     [0.1, 0.1]]\n",
    "indice_plus_proche(M, [0,0])"
   ]
  },
  {
   "cell_type": "markdown",
   "metadata": {},
   "source": [
    "**Remarque**: avec la librairie de calcul matriciel *Numpy* ça prend 1 ligne."
   ]
  },
  {
   "cell_type": "code",
   "execution_count": 67,
   "metadata": {},
   "outputs": [
    {
     "data": {
      "text/plain": [
       "0"
      ]
     },
     "execution_count": 67,
     "metadata": {},
     "output_type": "execute_result"
    }
   ],
   "source": [
    "import numpy as np\n",
    "\n",
    "def indice_plus_proche_numpy(M, v):\n",
    "    return np.argmin(np.linalg.norm(M-v, axis=1))\n",
    "\n",
    "M = np.array(\n",
    "    [[0.1, 0.1],\n",
    "     [2, 1],\n",
    "     [0.1, 0.5],\n",
    "     [3, 1.5]])\n",
    "indice_plus_proche_numpy(M, [0,0])"
   ]
  },
  {
   "cell_type": "code",
   "execution_count": 68,
   "metadata": {},
   "outputs": [
    {
     "data": {
      "text/plain": [
       "3"
      ]
     },
     "execution_count": 68,
     "metadata": {},
     "output_type": "execute_result"
    }
   ],
   "source": [
    "M = np.array(\n",
    "    [[2, 1],\n",
    "     [0.1, 0.5],\n",
    "     [3, 1.5],\n",
    "     [0.1, 0.1]])\n",
    "indice_plus_proche_numpy(M, [0,0])"
   ]
  },
  {
   "cell_type": "markdown",
   "metadata": {},
   "source": [
    "#### Exercice 4"
   ]
  },
  {
   "cell_type": "code",
   "execution_count": 71,
   "metadata": {},
   "outputs": [
    {
     "data": {
      "text/plain": [
       "3"
      ]
     },
     "execution_count": 71,
     "metadata": {},
     "output_type": "execute_result"
    }
   ],
   "source": [
    "def compte_prefix(s, prefix):\n",
    "    s2 = ' '+s\n",
    "    return s2.count(' '+prefix)\n",
    "\n",
    "compte_prefix('jean joue à un jeu avec jeanne', 'je')"
   ]
  },
  {
   "cell_type": "markdown",
   "metadata": {},
   "source": [
    "#### Exercice 5"
   ]
  },
  {
   "cell_type": "code",
   "execution_count": 73,
   "metadata": {},
   "outputs": [
    {
     "data": {
      "text/plain": [
       "3"
      ]
     },
     "execution_count": 73,
     "metadata": {},
     "output_type": "execute_result"
    }
   ],
   "source": [
    "def occ(s, cible):\n",
    "    s2 = s.lower()\n",
    "    return s2.count(cible)\n",
    "\n",
    "occ('Transversalement TRAnsverse transition', 'trans')"
   ]
  },
  {
   "cell_type": "markdown",
   "metadata": {},
   "source": [
    "## 3. Structures de contrôle"
   ]
  },
  {
   "cell_type": "markdown",
   "metadata": {},
   "source": [
    "#### Exercice 6\n"
   ]
  },
  {
   "cell_type": "code",
   "execution_count": 74,
   "metadata": {},
   "outputs": [
    {
     "data": {
      "text/plain": [
       "True"
      ]
     },
     "execution_count": 74,
     "metadata": {},
     "output_type": "execute_result"
    }
   ],
   "source": [
    "def check_magique(M):\n",
    "    somme = sum(M[0])\n",
    "    n = len(M[0])\n",
    "    \n",
    "    for line in M:\n",
    "        if sum(line) != somme:\n",
    "            return False\n",
    "\n",
    "    for j in range(n):\n",
    "        somme_colonne_j = 0\n",
    "        for i in range(n):\n",
    "            somme_colonne_j = somme_colonne_j + M[i][j]\n",
    "        if somme_colonne_j != somme:\n",
    "            return False\n",
    "    \n",
    "    somme_diag = 0\n",
    "    for i in range(n):\n",
    "        somme_diag = somme_diag + M[i][i]\n",
    "    if somme_diag != somme:\n",
    "        return False\n",
    "\n",
    "    somme_anti_diag = 0\n",
    "    for i in range(n):\n",
    "        somme_anti_diag = somme_anti_diag + M[i][n-1-i]\n",
    "    if somme_anti_diag != somme:\n",
    "        return False\n",
    "    \n",
    "    return True\n",
    "    \n",
    "M = [[2, 9, 4],\n",
    "     [7, 5, 3],\n",
    "     [6, 1, 8]]\n",
    "check_magique(M)"
   ]
  },
  {
   "cell_type": "code",
   "execution_count": 75,
   "metadata": {},
   "outputs": [
    {
     "data": {
      "text/plain": [
       "False"
      ]
     },
     "execution_count": 75,
     "metadata": {},
     "output_type": "execute_result"
    }
   ],
   "source": [
    "M = [[9, 2, 4],\n",
    "     [7, 5, 3],\n",
    "     [6, 1, 8]]\n",
    "check_magique(M)"
   ]
  },
  {
   "cell_type": "markdown",
   "metadata": {},
   "source": [
    "#### Exercice 7"
   ]
  },
  {
   "cell_type": "code",
   "execution_count": 77,
   "metadata": {},
   "outputs": [
    {
     "data": {
      "text/plain": [
       "6"
      ]
     },
     "execution_count": 77,
     "metadata": {},
     "output_type": "execute_result"
    }
   ],
   "source": [
    "def compte_voy(s):\n",
    "    s = s.lower()\n",
    "    voy = ['a', 'e', 'i', 'o', 'u', 'y']\n",
    "    compte = 0\n",
    "    for char in s:\n",
    "        if char in voy:\n",
    "            compte += 1\n",
    "    return compte\n",
    "\n",
    "compte_voy('boyaudier')"
   ]
  },
  {
   "cell_type": "code",
   "execution_count": 80,
   "metadata": {},
   "outputs": [
    {
     "data": {
      "text/plain": [
       "False"
      ]
     },
     "execution_count": 80,
     "metadata": {},
     "output_type": "execute_result"
    }
   ],
   "source": [
    "def check_voy(s):\n",
    "    return compte_voy(s) > len(s) - compte_voy(s)\n",
    "\n",
    "check_voy('borchtchs')"
   ]
  },
  {
   "cell_type": "markdown",
   "metadata": {},
   "source": [
    "## 4. Fonctions et modules"
   ]
  },
  {
   "cell_type": "markdown",
   "metadata": {},
   "source": [
    "#### Exercice 8"
   ]
  },
  {
   "cell_type": "code",
   "execution_count": 1,
   "metadata": {},
   "outputs": [
    {
     "name": "stdout",
     "output_type": "stream",
     "text": [
      "5*1=5\n",
      "5*2=10\n",
      "5*3=15\n",
      "5*4=20\n",
      "5*5=25\n",
      "5*6=30\n",
      "5*7=35\n",
      "5*8=40\n",
      "5*9=45\n",
      "5*10=50\n"
     ]
    }
   ],
   "source": [
    "def table(b):\n",
    "    for i in range(1, 11):\n",
    "        print(str(b)+'*'+str(i)+'='+str(b*i))\n",
    "\n",
    "table(5)"
   ]
  },
  {
   "cell_type": "markdown",
   "metadata": {},
   "source": [
    "#### Exercice 9"
   ]
  },
  {
   "cell_type": "code",
   "execution_count": 2,
   "metadata": {},
   "outputs": [
    {
     "data": {
      "text/plain": [
       "15"
      ]
     },
     "execution_count": 2,
     "metadata": {},
     "output_type": "execute_result"
    }
   ],
   "source": [
    "def somme_entier(n):\n",
    "    if n == 1:\n",
    "        return 1\n",
    "    else:\n",
    "        return somme_entier(n-1) + n\n",
    "\n",
    "somme_entier(5)"
   ]
  },
  {
   "cell_type": "code",
   "execution_count": 3,
   "metadata": {},
   "outputs": [
    {
     "data": {
      "text/plain": [
       "15.0"
      ]
     },
     "execution_count": 3,
     "metadata": {},
     "output_type": "execute_result"
    }
   ],
   "source": [
    "5*(5+1)/2"
   ]
  },
  {
   "cell_type": "markdown",
   "metadata": {},
   "source": [
    "#### Exercice 10"
   ]
  },
  {
   "cell_type": "code",
   "execution_count": 20,
   "metadata": {},
   "outputs": [],
   "source": [
    "def somme(*entiers):\n",
    "    if len(entiers) in [2,3,4]:\n",
    "        return sum(entiers)\n",
    "    else:\n",
    "        print('Conditions non vérifiées')"
   ]
  },
  {
   "cell_type": "code",
   "execution_count": 22,
   "metadata": {},
   "outputs": [
    {
     "data": {
      "text/plain": [
       "12"
      ]
     },
     "execution_count": 22,
     "metadata": {},
     "output_type": "execute_result"
    }
   ],
   "source": [
    "somme(1,2,4,5)"
   ]
  },
  {
   "cell_type": "markdown",
   "metadata": {},
   "source": [
    "#### Exercice 11"
   ]
  },
  {
   "cell_type": "code",
   "execution_count": 24,
   "metadata": {},
   "outputs": [
    {
     "name": "stdout",
     "output_type": "stream",
     "text": [
      "5*4=20\n",
      "5*5=25\n",
      "5*6=30\n",
      "5*7=35\n"
     ]
    }
   ],
   "source": [
    "def table_2(b, start, end):\n",
    "    for i in range(start, end+1):\n",
    "        print(str(b)+'*'+str(i)+'='+str(b*i))\n",
    "\n",
    "table_2(5, 4, 7)"
   ]
  },
  {
   "cell_type": "code",
   "execution_count": null,
   "metadata": {},
   "outputs": [],
   "source": []
  }
 ],
 "metadata": {
  "kernelspec": {
   "display_name": "Python 3",
   "language": "python",
   "name": "python3"
  },
  "language_info": {
   "codemirror_mode": {
    "name": "ipython",
    "version": 3
   },
   "file_extension": ".py",
   "mimetype": "text/x-python",
   "name": "python",
   "nbconvert_exporter": "python",
   "pygments_lexer": "ipython3",
   "version": "3.6.2"
  }
 },
 "nbformat": 4,
 "nbformat_minor": 2
}
